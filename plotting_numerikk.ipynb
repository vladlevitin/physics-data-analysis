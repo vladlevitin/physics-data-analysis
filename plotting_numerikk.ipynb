{
 "cells": [
  {
   "cell_type": "markdown",
   "metadata": {},
   "source": [
    "# Plotting og numerikk for labrapport\n",
    "\n",
    "## Introduksjon\n",
    "\n",
    "Vi har en U-formet bane og en kule, og ønsker å måle energitapsraten til kula i det den oscillerer i banen. Etter dette skal vi beregne hva luftmotstandskoeffisienten, $k$, for kula er.\n",
    "\n",
    "## Oppsett og innstillinger"
   ]
  },
  {
   "cell_type": "code",
   "execution_count": 1,
   "metadata": {},
   "outputs": [],
   "source": [
    "# Importer og sett opp moduler.\n",
    "import pandas as pd\n",
    "import numpy as np\n",
    "import matplotlib.pyplot as plt\n",
    "%matplotlib notebook\n",
    "\n",
    "plt.rcParams.update({'text.usetex': True,\n",
    "                     'text.latex.preamble': r'\\usepackage[cm]{sfmath}',\n",
    "                     'font.size': 10,\n",
    "                     'figure.figsize': (3.7,2.4),\n",
    "                     'figure.autolayout': True,\n",
    "                     'axes.grid': False,\n",
    "                     'axes.linewidth': 0.4,\n",
    "                     'lines.linewidth': 0.4,\n",
    "                     'legend.frameon': False,\n",
    "                     'legend.handlelength': 0.8,\n",
    "                     'xtick.top': True,\n",
    "                     'ytick.right': True,\n",
    "                     'xtick.direction': 'in',\n",
    "                     'ytick.direction': 'in',\n",
    "                     'xtick.major.width': 0.2,\n",
    "                     'ytick.major.width': 0.2})"
   ]
  },
  {
   "cell_type": "code",
   "execution_count": 2,
   "metadata": {},
   "outputs": [],
   "source": [
    "# Definer konstaner.\n",
    "M = 0.03   # Massen til kulen (kg).\n",
    "G = 9.806  # Tyngdekraft (m/s²)."
   ]
  },
  {
   "cell_type": "markdown",
   "metadata": {},
   "source": [
    "## Hjelpefunksjoner"
   ]
  },
  {
   "cell_type": "code",
   "execution_count": 3,
   "metadata": {},
   "outputs": [],
   "source": [
    "import numpy.polynomial.polynomial as poly\n",
    "\n",
    "\n",
    "def polyfit(data_set):\n",
    "    \"\"\"\n",
    "    Finner et 15-grads-interpolasjonspolynom for et sett måledata,\n",
    "    dvs. en polynomtilnærming til U-banen.\n",
    "\n",
    "    :param data_set: DataFrame med data som skal interpoleres.\n",
    "    :return: Liste med polynomkoeffisienter i stigende rekkefølge, [c0, c1, ...].\n",
    "    \"\"\"\n",
    "    return poly.polyfit(data_set['x'].values, data_set['y'].values, 15)\n",
    "\n",
    "\n",
    "def track_values(x, c):\n",
    "    \"\"\"\n",
    "    Finn funksjonsverdi, derivert, andrederivert, stigningsvinkel, og krumningsradius\n",
    "    for en gitt x-verdi, for et polynom.\n",
    "\n",
    "    :param x: x-verdi.\n",
    "    :param c: Koeffisienter til polynom i stigende rekkefølge, [c0, c1, ...].\n",
    "    :return: (funksjonsverdi, derivert, andrederivert, stigningsvinkel, krumningsradius).\n",
    "    \"\"\"\n",
    "    y = poly.polyval(x, c)\n",
    "    dp = poly.polyder(c)\n",
    "    dydx = poly.polyval(x, dp)\n",
    "    ddp = poly.polyder(dp)\n",
    "    d2ydx2 = poly.polyval(x, ddp)\n",
    "    alpha = np.arctan(-dydx)\n",
    "    r = (1 + dydx ** 2) ** 1.5 / d2ydx2\n",
    "    return y, dydx, d2ydx2, alpha, r"
   ]
  },
  {
   "cell_type": "code",
   "execution_count": 4,
   "metadata": {},
   "outputs": [],
   "source": [
    "def calculate_energy(data_set):\n",
    "    \"\"\"\n",
    "    Regner ut energi for et sett data.\n",
    "    \n",
    "    :param data_set: DataFrame med data.\n",
    "    :return: DataFrame med ekstra kolonner K (kinetisk energi), P (potensiell energi),\n",
    "    og E (total mekanisk energi).\n",
    "    \"\"\"\n",
    "    \n",
    "    # Kinetisk energi (translasjon og rotasjon) i mJ.\n",
    "    data_set['K'] = 0.7 * M * data_set['v']**2 * 1000\n",
    "\n",
    "    # Potensiell energi i mJ.\n",
    "    data_set['P'] = M * G * data_set['y'] * 1000\n",
    "\n",
    "    # Mekanisk energi (= kinetisk + potensiell).\n",
    "    data_set['E'] = data_set['K'] + data_set['P']\n",
    "        \n",
    "    return data_set\n",
    "\n",
    "\n",
    "def calculate_forces(data_set):\n",
    "    \"\"\"\n",
    "    Regner ut normalkraft og friksjonskraft (mN) for et sett data.\n",
    "    \n",
    "    :param data_set: DataFrame med data.\n",
    "    :return: DataFrame med ekstra kolonner N (normalkraft) og f (friksjonskraft).\n",
    "    \"\"\"\n",
    "    data_set['N'] = (M * G * np.cos(data_set['alpha']) + M * data_set['v']**2 / data_set['R']) * 1000\n",
    "    data_set['f'] = (M * G * np.sin(data_set['alpha']) - M * data_set['a']) * 1000\n",
    "    return data_set"
   ]
  },
  {
   "cell_type": "markdown",
   "metadata": {},
   "source": [
    "## Innlesing av data eksportert fra Tracker"
   ]
  },
  {
   "cell_type": "code",
   "execution_count": 5,
   "metadata": {},
   "outputs": [],
   "source": [
    "import glob\n",
    "\n",
    "\n",
    "def read_data_from_csv(filename):\n",
    "    \"\"\"\n",
    "    Les inn data fra csv-fil.\n",
    "\n",
    "    :param filename: Sti til csv-fil.\n",
    "    :return: DataFrame med kolonner t, x, y, v (og x- og y-retning), a, P (potensiell energi),\n",
    "    K (kinetisk energi), E (total mekanisk energi), alpha (stigningsvnkel), R (krumningsradius),\n",
    "    N (normalkraft), og f (friksjonskraft).\n",
    "    \"\"\"\n",
    "    data_set = pd.read_csv(filename)\n",
    "\n",
    "    # Konverter cm til m.\n",
    "    data_set['x'] = data_set['x'] / 100\n",
    "    data_set['y'] = data_set['y'] / 100\n",
    "    data_set['v'] = data_set['v'] / 100\n",
    "    data_set['a'] = data_set['a'] / 100\n",
    "\n",
    "    # Forskyv y-verdiene sånn at den laveste målte verdien regnes som 0.\n",
    "    min_y = min(data_set['y'])\n",
    "    data_set['y'] = data_set['y'] - min_y\n",
    "\n",
    "    # Fjern alle rader med NaN-verdier og (potensielt) fiks indeksene.\n",
    "    data_set = data_set.dropna().reset_index(drop=True)\n",
    "    \n",
    "    # Forskyv t-verdiene sånn at den første verdien blir 0\n",
    "    data_set['t'] = data_set['t'] - data_set['t'][0]\n",
    "\n",
    "    # Finn stigningsvinkel og krumningsradius.\n",
    "    c = polyfit(data_set)\n",
    "    data_set['alpha'] = track_values(data_set['x'], c)[3]\n",
    "    data_set['R'] = track_values(data_set['x'], c)[4]\n",
    "    \n",
    "    # 'Fjern' sentripetalakselerasjonen fordi vi ikke har bruk for den.\n",
    "    data_set['a'] = data_set['a'] * np.sin(data_set['alpha'])\n",
    "    \n",
    "    data_set = calculate_energy(data_set)\n",
    "    return calculate_forces(data_set)\n",
    "\n",
    "\n",
    "def read_all_csv_files(data_dir='data/'):\n",
    "    \"\"\"\n",
    "    Leser alle csv-filer i gitt mappe.\n",
    "\n",
    "    :param data_dir: Mappe med csv-filer.\n",
    "    :return: Liste med tupler (filnavn, dataframe).\n",
    "    \"\"\"\n",
    "    filenames = glob.glob(data_dir + '*.csv')\n",
    "    return [read_data_from_csv(filename) for filename in sorted(filenames)]"
   ]
  },
  {
   "cell_type": "code",
   "execution_count": 6,
   "metadata": {},
   "outputs": [],
   "source": [
    "data_sets = read_all_csv_files()"
   ]
  },
  {
   "cell_type": "markdown",
   "metadata": {},
   "source": [
    "## Numerikk\n",
    "\n",
    "Vi antar et lineært forhold mellom friksjonskraften og farten til kula.\n",
    "Den dynamiske ligningen til systemet, ved Newtons 2. lov, er da\n",
    "\n",
    "\\begin{equation}\n",
    "    m \\frac{\\mathrm{d}^2 x}{\\mathrm{d} t^2} = mg \\sin \\alpha(x) - f - k \\frac{\\mathrm{d} x}{\\mathrm{d} t},\n",
    "\\end{equation}\n",
    "\n",
    "der friksjonen grunnet underlaget, $f = \\frac{2}{5} m~\\mathrm{d}^2 x / \\mathrm{d}t^2$.\n",
    "Ved å innføre $v = \\mathrm{d} x / \\mathrm{d} t$ kan vi skrive om denne ligningen til to førsteordens diff.ligninger:\n",
    "\n",
    "\\begin{align}\n",
    "    &\\frac{\\mathrm{d} x}{\\mathrm{d} t} = v,\\\\\n",
    "    &\\frac{\\mathrm{d} v}{\\mathrm{d} t} = g \\sin \\alpha(x) - \\frac{f + kv}{m}.\n",
    "\\end{align}\n",
    "\n",
    "Dette settet kan løses numerisk med Eulers metode, $\\mathbf{y}_{n+1} = \\mathbf{y}_{n} + h \\mathbf{f}(t_{n}, \\mathbf{y}_{n})$, der\n",
    "\n",
    "\\begin{equation}\n",
    "    h \\text{ er steglengden}, \\quad %\n",
    "    \\mathbf{y}_n = (x_n, v_n), \\quad %\n",
    "    \\mathbf{f}(t_{n}, \\mathbf{y}_{n}) = \\left(v_n, g \\sin \\alpha(x) - \\frac{f + k v_n}{m}\\right).\n",
    "\\end{equation}\n",
    "\n",
    "Vi får\n",
    "\n",
    "\\begin{align}\n",
    "    &x_{n+1} = x_n + hv_n \\cos \\alpha(x),\\\\\n",
    "    &v_{n+1} = v_n + h (g \\sin \\alpha(x) - \\frac{2}{5} a - \\frac{kv_n}{m}).\n",
    "\\end{align}\n",
    "\n",
    "Luftmotstandskoeffisienten er gitt ved\n",
    "\n",
    "\\begin{equation}\n",
    "    k = \\frac{\\Delta W}{Q}, \\quad Q = \\int_{t_1}^{t_2} v(t)^2 \\mathrm{d}t.\n",
    "\\end{equation}\n",
    "\n",
    "Vi bruker trapesmetoden til å tilnærme verdien av dette integralet."
   ]
  },
  {
   "cell_type": "markdown",
   "metadata": {},
   "source": [
    "Vi får bruk for stigningsvinkelen, $\\alpha$, luftmotstandskoeffisienten, $k$, og akselerasjonen, $a$, i Eulers metode. Disse tilnærmer vi ved hjelp av måledata fra den eksperimentelle delen av forsøket."
   ]
  },
  {
   "cell_type": "code",
   "execution_count": 7,
   "metadata": {},
   "outputs": [
    {
     "name": "stdout",
     "output_type": "stream",
     "text": [
      "k-verdier:\n",
      "0.0033260516598542737\n",
      "0.003277504099918992\n",
      "0.003381815590938904\n",
      "0.003627120087002922\n",
      "0.0034068783479710503\n",
      "0.003626845112388995\n",
      "0.0033691478663744946\n",
      "0.003969037295323382\n",
      "0.0031989790171206467\n",
      "0.003457237234731753\n",
      "0.0036071411851972025\n",
      "0.003408891039661287\n",
      "0.003179555996987576\n",
      "\n",
      "k = 0.003448938810267037\n",
      "Standardfeil = 5.952707026962793e-05\n"
     ]
    }
   ],
   "source": [
    "def approx_drag_coefficient(data_set):\n",
    "    \"\"\"\n",
    "    Tilnærmer luftmotstandskoeffisienten ut i fra måledata, ved bruk av trapesmetoden.\n",
    "    \n",
    "    :param data_set: DataFrame med måledata fra den eksperimentelle delen av forsøket.\n",
    "    :return: Tilnærmeelse til Luftmotstandskoeffisienten.\n",
    "    \"\"\"\n",
    "    \n",
    "    # (Gjør om mJ til J.)\n",
    "    delta_W = (data_set['E'][0] - data_set['E'].iat[-1]) / 1000\n",
    "    \n",
    "    # Trapesmetoden for å finne numerisk løsning av Q.\n",
    "    a, b = data_set['t'][0], data_set['t'].iat[-1]\n",
    "    N = len(data_set.index)\n",
    "    h = (b - a)/(N - 1)\n",
    "    Q = (h/2) * np.sum(data_set['v'].iloc[1:]**2 + data_set['v'].iloc[:-1]**2)\n",
    "    \n",
    "    return delta_W / Q\n",
    "\n",
    "# Tar gjennomsnittet av alle k-tilnærmingene for alle settene med måledata.\n",
    "ks = [approx_drag_coefficient(data_set) for data_set in data_sets]\n",
    "k = sum(ks) / len(ks)\n",
    "standard_error = np.sqrt(sum((val - k)**2 for val in ks) / (len(ks) - 1)) / np.sqrt(len(ks))\n",
    "print('k-verdier:')\n",
    "print(*ks, sep='\\n')\n",
    "print(f'\\nk = {k}\\nStandardfeil = {standard_error}')"
   ]
  },
  {
   "cell_type": "markdown",
   "metadata": {},
   "source": [
    "Vi tar utgangspunkt i den første posisjonsmålingen i settet med måledata for å velge initialbetingelser for Eulers metode. Dette gjør det enklere å sammenligne den numeriske løsningen med den eksperimentelle."
   ]
  },
  {
   "cell_type": "code",
   "execution_count": 8,
   "metadata": {},
   "outputs": [],
   "source": [
    "def euler(data_set, N=10000, h=0.001):\n",
    "    \"\"\"\n",
    "    Anvend Eulers metode på den dynamiske ligningen til systemet.\n",
    "\n",
    "    :param data_set: DataFrame med måledata fra den eksperimentelle delen av forsøket.\n",
    "    :return: Numerisk løsning av systemet i form av DataFrame med kolonner t, x, y, v, a,\n",
    "    P (potensiell energi), K (kinetisk energi), E (mekanisk energi), alpha (stigningsvnkel),\n",
    "    R (krumningsradius), N (normalkraft), f (friksjonskraft).\n",
    "    \"\"\"\n",
    "    t, x, v = np.zeros(N + 1), np.zeros(N + 1), np.zeros(N + 1)\n",
    "        \n",
    "    # Initialverdiene for tid, x, og fart settes på grunnlag av måledataene\n",
    "    # for å forenkle sammenligning mellom numeriske løsninger og eksperimentelle.\n",
    "    t[0], x[0], v[0] = data_set['t'][0], data_set['x'][0], data_set['v'][0]\n",
    "    \n",
    "    # Polynomkoeffisientene til polynomet som interpolerer måledataene.\n",
    "    c = polyfit(data_set)\n",
    "    \n",
    "    # Initialverdiene for y, alpha, R, og a regnes ut.\n",
    "    y, a, alpha, R = np.zeros(N + 1), np.zeros(N + 1), np.zeros(N + 1), np.zeros(N + 1)\n",
    "    y[0], _, _, alpha[0], R[0] = track_values(x[0], c)\n",
    "    a[0] = 5/7 * (G*np.sin(alpha[0]) - k*v[0]/M)\n",
    "    \n",
    "    for n in range(N):\n",
    "        t[n + 1] = t[n] + h\n",
    "        x[n + 1] = x[n] + h*v[n]*np.cos(alpha[n])\n",
    "        \n",
    "        # Verdier tilnærmet ved hjelp av interpolasjonspolynom.\n",
    "        y[n + 1], _, _, alpha[n + 1], R[n + 1] = track_values(x[n + 1], c)\n",
    "        \n",
    "        # k har vi tilnærmet lengre oppe.\n",
    "        a[n + 1] = 5/7 * (G*np.sin(alpha[n + 1]) - k*v[n]/M)\n",
    "                \n",
    "        v[n + 1] = v[n] + h * a[n + 1]\n",
    "\n",
    "    # Returner en DataFrame med alle mulige kolonner.\n",
    "    # Fart lagres i absoluttverdi (som måledataene).\n",
    "    data_set = pd.DataFrame(data={'t': t, 'x': x, 'y': y, 'v': v, 'a': a, 'alpha': alpha, 'R': R})\n",
    "    data_set['y'] = data_set['y'] - min(data_set['y'])\n",
    "    data_set['v'] = np.abs(data_set['v'])\n",
    "    return calculate_forces(calculate_energy(data_set))"
   ]
  },
  {
   "cell_type": "markdown",
   "metadata": {},
   "source": [
    "## Visualisering/plotting"
   ]
  },
  {
   "cell_type": "code",
   "execution_count": 9,
   "metadata": {},
   "outputs": [],
   "source": [
    "# Figurstørrelser.\n",
    "large = (3.7, 2.4)   # Fyller hele kolonnen med tekst.\n",
    "small = (1.95, 1.8)  # Fyller halve kolonnen med tekst (plass til to i bredden)."
   ]
  },
  {
   "cell_type": "code",
   "execution_count": 10,
   "metadata": {},
   "outputs": [],
   "source": [
    "data_set = data_sets[2]\n",
    "N = 1000000\n",
    "h = 0.00001\n",
    "euler_data_set = euler(data_set, N, h)"
   ]
  },
  {
   "cell_type": "code",
   "execution_count": 11,
   "metadata": {},
   "outputs": [
    {
     "name": "stderr",
     "output_type": "stream",
     "text": [
      "/home/olafal/Schoolwork/tfy4125/venv/lib/python3.7/site-packages/matplotlib/figure.py:2369: UserWarning: This figure includes Axes that are not compatible with tight_layout, so results might be incorrect.\n",
      "  warnings.warn(\"This figure includes Axes that are not compatible \"\n"
     ]
    },
    {
     "data": {
      "image/png": "[encoded data removed]",
      "text/plain": [
       "<Figure size 140.4x129.6 with 1 Axes>"
      ]
     },
     "metadata": {
      "needs_background": "light"
     },
     "output_type": "display_data"
    }
   ],
   "source": [
    "ax = data_set.plot(x='t', y='x', c='red', style='--', legend=None, figsize=small)\n",
    "euler_data_set.plot(x='t', y='x', c='black', legend=None, ax=ax)\n",
    "plt.xlabel('tid $t$ [s]')\n",
    "plt.ylabel('posisjon $x$ [m]')\n",
    "plt.savefig('x_tid.pdf', bbox_inches='tight', pad_inches=0.02)"
   ]
  },
  {
   "cell_type": "code",
   "execution_count": 12,
   "metadata": {},
   "outputs": [
    {
     "data": {
      "image/png": "[encoded data removed]",
      "text/plain": [
       "<Figure size 140.4x129.6 with 1 Axes>"
      ]
     },
     "metadata": {
      "needs_background": "light"
     },
     "output_type": "display_data"
    }
   ],
   "source": [
    "ax = data_set.plot(x='t', y='v', c='red', style='--', legend=None, figsize=small)\n",
    "euler_data_set.plot(x='t', y='v', c='black', legend=None, ax=ax)\n",
    "plt.xlabel('tid $t$ [s]')\n",
    "plt.ylabel('fart $v$ [m/s]')\n",
    "plt.savefig('fart_tid.pdf', bbox_inches='tight', pad_inches=0.02)"
   ]
  },
  {
   "cell_type": "code",
   "execution_count": 13,
   "metadata": {},
   "outputs": [
    {
     "data": {
      "image/png": "[encoded data removed]",
      "text/plain": [
       "<Figure size 140.4x129.6 with 1 Axes>"
      ]
     },
     "metadata": {
      "needs_background": "light"
     },
     "output_type": "display_data"
    }
   ],
   "source": [
    "euler_data_set.plot(x='t', y='N', c='black', legend=None, figsize=small)\n",
    "plt.xlabel('tid $t$ [s]')\n",
    "plt.ylabel('normalkraft $N$ [mN]')\n",
    "plt.savefig('normalkraft_tid_numerisk.pdf', bbox_inches='tight', pad_inches=0.02)"
   ]
  },
  {
   "cell_type": "code",
   "execution_count": 14,
   "metadata": {},
   "outputs": [
    {
     "data": {
      "image/png": "[encoded data removed]",
      "text/plain": [
       "<Figure size 140.4x129.6 with 1 Axes>"
      ]
     },
     "metadata": {
      "needs_background": "light"
     },
     "output_type": "display_data"
    }
   ],
   "source": [
    "euler_data_set.plot(x='t', y='f', c='black', legend=None, figsize=small)\n",
    "plt.xlabel('tid $t$ [s]')\n",
    "plt.ylabel('friksjonskraft $f$ [mN]')\n",
    "plt.savefig('friksjonskraft_tid_numerisk.pdf', bbox_inches='tight', pad_inches=0.02)"
   ]
  },
  {
   "cell_type": "code",
   "execution_count": 15,
   "metadata": {},
   "outputs": [
    {
     "name": "stderr",
     "output_type": "stream",
     "text": [
      "/home/olafal/Schoolwork/tfy4125/venv/lib/python3.7/site-packages/matplotlib/legend.py:449: UserWarning: The handle <matplotlib.lines.Line2D object at 0x7fe2b7b70f98> has a label of '_nolegend_' which cannot be automatically added to the legend.\n",
      "  'legend.'.format(handle, label))\n",
      "/home/olafal/Schoolwork/tfy4125/venv/lib/python3.7/site-packages/matplotlib/figure.py:2369: UserWarning: This figure includes Axes that are not compatible with tight_layout, so results might be incorrect.\n",
      "  warnings.warn(\"This figure includes Axes that are not compatible \"\n"
     ]
    },
    {
     "data": {
      "image/png": "[encoded data removed]",
      "text/plain": [
       "<Figure size 266.4x172.8 with 1 Axes>"
      ]
     },
     "metadata": {
      "needs_background": "light"
     },
     "output_type": "display_data"
    }
   ],
   "source": [
    "ax = data_set.plot(x='t', y='E', c='red', style='--', label='_nolegend_', legend=None, figsize=large)\n",
    "euler_data_set.plot(x='t', y='E', c='black', label='_nolegend_', ax=ax)\n",
    "euler_data_set.plot(x='t', y='K', c='blue', ax=ax)\n",
    "euler_data_set.plot(x='t', y='P', c='green', ax=ax)\n",
    "ax.legend(['kinetisk $E_k$', 'potensiell $E_p$'])\n",
    "plt.xlabel('tid [s]')\n",
    "plt.ylabel('mekanisk energi $E_m$ [mJ]')\n",
    "plt.savefig('energi_tid.pdf', bbox_inches='tight', pad_inches=0.02)"
   ]
  },
  {
   "cell_type": "code",
   "execution_count": 16,
   "metadata": {},
   "outputs": [
    {
     "name": "stderr",
     "output_type": "stream",
     "text": [
      "/home/olafal/Schoolwork/tfy4125/venv/lib/python3.7/site-packages/matplotlib/figure.py:2369: UserWarning: This figure includes Axes that are not compatible with tight_layout, so results might be incorrect.\n",
      "  warnings.warn(\"This figure includes Axes that are not compatible \"\n"
     ]
    },
    {
     "data": {
      "image/png": "[encoded data removed]",
      "text/plain": [
       "<Figure size 266.4x172.8 with 1 Axes>"
      ]
     },
     "metadata": {
      "needs_background": "light"
     },
     "output_type": "display_data"
    }
   ],
   "source": [
    "euler_data_set['dEdt'] = -euler_data_set['E'].diff() * 1/h  # Energitap per sekund. \n",
    "euler_data_set.plot(x='t', y='dEdt', c='black', legend=None, figsize=large)\n",
    "plt.xlabel('tid [s]')\n",
    "plt.ylabel('energitapsrate $\\mathrm{d}E_m/\\mathrm{d}t$ [mJ/s]')\n",
    "plt.savefig('energitapsrate_tid_numerisk.pdf', bbox_inches='tight', pad_inches=0.02)"
   ]
  },
  {
   "cell_type": "code",
   "execution_count": 17,
   "metadata": {},
   "outputs": [
    {
     "name": "stderr",
     "output_type": "stream",
     "text": [
      "/home/olafal/Schoolwork/tfy4125/venv/lib/python3.7/site-packages/matplotlib/figure.py:2369: UserWarning: This figure includes Axes that are not compatible with tight_layout, so results might be incorrect.\n",
      "  warnings.warn(\"This figure includes Axes that are not compatible \"\n"
     ]
    },
    {
     "data": {
      "image/png": "[encoded data removed]",
      "text/plain": [
       "<Figure size 140.4x129.6 with 1 Axes>"
      ]
     },
     "metadata": {
      "needs_background": "light"
     },
     "output_type": "display_data"
    }
   ],
   "source": [
    "euler_data_set.plot(x='t', y='a', c='black', legend=None, figsize=small)\n",
    "plt.xlabel('tid $t$ [s]')\n",
    "plt.ylabel('akselerasjon $a$ [m/$s^2$]')\n",
    "plt.savefig('akselerasjon_tid_numerisk.pdf', bbox_inches='tight', pad_inches=0.02)"
   ]
  },
  {
   "cell_type": "code",
   "execution_count": 18,
   "metadata": {},
   "outputs": [
    {
     "data": {
      "image/png": "[encoded data removed]",
      "text/plain": [
       "<Figure size 266.4x172.8 with 1 Axes>"
      ]
     },
     "metadata": {
      "needs_background": "light"
     },
     "output_type": "display_data"
    }
   ],
   "source": [
    "ax = data_set.plot(x='x', y='y', c='red', style='--', legend=None, figsize=large)\n",
    "euler_data_set.plot(x='x', y='y', c='black', legend=None, ax=ax)\n",
    "plt.xlabel('posisjon $x$ [m]')\n",
    "plt.ylabel('posisjon $y$ [m]')\n",
    "plt.savefig('x_y.pdf', bbox_inches='tight', pad_inches=0.02)"
   ]
  }
 ],
 "metadata": {
  "kernelspec": {
   "display_name": "Python 3",
   "language": "python",
   "name": "python3"
  },
  "language_info": {
   "codemirror_mode": {
    "name": "ipython",
    "version": 3
   },
   "file_extension": ".py",
   "mimetype": "text/x-python",
   "name": "python",
   "nbconvert_exporter": "python",
   "pygments_lexer": "ipython3",
   "version": "3.7.3"
  }
 },
 "nbformat": 4,
 "nbformat_minor": 2
}
